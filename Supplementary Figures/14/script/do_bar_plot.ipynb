{
 "cells": [
  {
   "cell_type": "code",
   "execution_count": 1,
   "metadata": {},
   "outputs": [],
   "source": [
    "import matplotlib.pyplot as plt\n",
    "import numpy as np\n",
    "import pandas as pd"
   ]
  },
  {
   "cell_type": "code",
   "execution_count": 2,
   "metadata": {},
   "outputs": [],
   "source": [
    "exp = pd.read_csv('../data/Carbs_SCFA_all_Exp.csv',index_col=0)\n",
    "pre = pd.read_csv('../data/Carbs_SCFA_All_Prediction.csv',index_col=0)"
   ]
  },
  {
   "cell_type": "code",
   "execution_count": null,
   "metadata": {},
   "outputs": [],
   "source": []
  },
  {
   "cell_type": "code",
   "execution_count": 3,
   "metadata": {},
   "outputs": [
    {
     "name": "stdout",
     "output_type": "stream",
     "text": [
      "           Acetate  Propionate  Butyrate  Ac_error  Prop_error  But_error\n",
      "Carbs                                                                    \n",
      "FOS             82          12         6         6           5          0\n",
      "Lactulose       89           3         8         0           0          1\n",
      "Pectin          74          19         8         1           0          0\n",
      "Lactitol        66          13        21         3           1          2\n"
     ]
    }
   ],
   "source": [
    "print(exp)"
   ]
  },
  {
   "cell_type": "code",
   "execution_count": 4,
   "metadata": {},
   "outputs": [
    {
     "name": "stdout",
     "output_type": "stream",
     "text": [
      "            Acetate  Propionate  Butyrate\n",
      "Carbs                                    \n",
      "FOS        0.795794    0.130613  0.073593\n",
      "Lactulose  0.861494    0.045680  0.092826\n",
      "Pectin     0.710743    0.196075  0.093182\n",
      "Lactitol   0.609252    0.161822  0.228926\n"
     ]
    }
   ],
   "source": [
    "print(pre)"
   ]
  },
  {
   "cell_type": "code",
   "execution_count": 80,
   "metadata": {},
   "outputs": [
    {
     "name": "stdout",
     "output_type": "stream",
     "text": [
      "[0 2 4]\n",
      "[1 3 5]\n",
      "[ 7  9 11]\n",
      "[ 8 10 12]\n",
      "[14 16 18]\n",
      "[15 17 19]\n",
      "[21 23 25]\n",
      "[22 24 26]\n"
     ]
    },
    {
     "data": {
      "image/png": "[encoded data removed]",
      "text/plain": [
       "<Figure size 216x648 with 1 Axes>"
      ]
     },
     "metadata": {
      "needs_background": "light"
     },
     "output_type": "display_data"
    }
   ],
   "source": [
    "fig, ax1 = plt.subplots(figsize=(3,9))\n",
    "\n",
    "y0 = np.arange(3)*2\n",
    "y1 = y0+1\n",
    "\n",
    "tick_pos = list()\n",
    "\n",
    "tick_pos_sub = list()\n",
    "tick_labels = list()\n",
    "\n",
    "xlim = [0,100]\n",
    "\n",
    "m, err = ['Butyrate','Propionate','Acetate'],['But_error','Prop_error','Ac_error']\n",
    "\n",
    "for ind in exp.index:\n",
    "    if ind == exp.index[0]:\n",
    "        ax1.barh(y1,pre.loc[ind,m]*100,color='gray',height=0.8,label='Prediction')\n",
    "        ax1.barh(y0,exp.loc[ind,m],xerr=exp.loc[ind,err],color='#e78ac3',height=0.8,label='Experiment',capsize=3)\n",
    "        \n",
    "    else:\n",
    "        ax1.barh(y1,pre.loc[ind,m]*100,color='gray',height=0.8)\n",
    "        ax1.barh(y0,exp.loc[ind,m],xerr=exp.loc[ind,err],color='#e78ac3',height=0.8,capsize=3)\n",
    "\n",
    "    tick_pos.append(np.mean(y0+y1)/2)\n",
    "    \n",
    "    tick_pos_sub += list((y0+y1)/2)\n",
    "    tick_labels += list(m)\n",
    "    \n",
    "    if ind!= exp.index[-1]:plt.plot(xlim,[y1[-1]+1]*2,'k--')\n",
    "    \n",
    "    print(y0)\n",
    "    print(y1)\n",
    "    \n",
    "    y0 += 7\n",
    "    y1 += 7\n",
    "plt.xlim(xlim)\n",
    "plt.yticks(tick_pos_sub,tick_labels)\n",
    "\n",
    "plt.legend()\n",
    "for i,y in enumerate(tick_pos):\n",
    "    plt.text(101,y,exp.index[i],rotation=-90,va='center')\n",
    "#plt.yticks(tick_pos,exp.index,rotation=90,va='center')\n",
    "plt.xlabel('SCFA Percentage(%)')\n",
    "plt.savefig('../figures/barplot.pdf',bbox_inches='tight')\n",
    "plt.show()"
   ]
  }
 ],
 "metadata": {
  "kernelspec": {
   "display_name": "Python 3",
   "language": "python",
   "name": "python3"
  },
  "language_info": {
   "codemirror_mode": {
    "name": "ipython",
    "version": 3
   },
   "file_extension": ".py",
   "mimetype": "text/x-python",
   "name": "python",
   "nbconvert_exporter": "python",
   "pygments_lexer": "ipython3",
   "version": "3.7.2"
  }
 },
 "nbformat": 4,
 "nbformat_minor": 2
}
