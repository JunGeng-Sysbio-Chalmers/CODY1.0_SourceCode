{
 "cells": [
  {
   "cell_type": "code",
   "execution_count": 12,
   "metadata": {},
   "outputs": [],
   "source": [
    "import sys\n",
    "import numpy as np\n",
    "import pandas as pd\n",
    "from scipy.stats import pearsonr as pr\n",
    "from matplotlib import pyplot as plt\n",
    "import matplotlib as mpl\n",
    "import string"
   ]
  },
  {
   "cell_type": "code",
   "execution_count": 11,
   "metadata": {},
   "outputs": [],
   "source": [
    "mpl.rcParams['font.size'] = 12\n",
    "mpl.rcParams['font.family'] = 'Times New Roman'"
   ]
  },
  {
   "cell_type": "markdown",
   "metadata": {},
   "source": [
    "#### 1. feature correlation"
   ]
  },
  {
   "cell_type": "code",
   "execution_count": 2,
   "metadata": {},
   "outputs": [],
   "source": [
    "infile = '../Results/TS_Data_top10_three_labels.csv'\n",
    "outname = '../Results/featurecorrelationmap_top10_three_labels.pdf'"
   ]
  },
  {
   "cell_type": "code",
   "execution_count": 5,
   "metadata": {},
   "outputs": [
    {
     "name": "stdout",
     "output_type": "stream",
     "text": [
      "(117, 10)\n"
     ]
    }
   ],
   "source": [
    "df = pd.read_csv(infile, index_col=0)\n",
    "data = df.values\n",
    "print(data.shape)"
   ]
  },
  {
   "cell_type": "code",
   "execution_count": 6,
   "metadata": {},
   "outputs": [
    {
     "name": "stdout",
     "output_type": "stream",
     "text": [
      "(10, 10)\n"
     ]
    }
   ],
   "source": [
    "pr_matrix =np.zeros([data.shape[1], data.shape[1]])\n",
    "print(pr_matrix.shape)\n",
    "for i in range(data.shape[1]):\n",
    "    for j in range(data.shape[1]):\n",
    "        pr_matrix[i,j] = pr(data[:,i], data[:,j])[0]**2"
   ]
  },
  {
   "cell_type": "code",
   "execution_count": 9,
   "metadata": {},
   "outputs": [],
   "source": [
    "def plot_heatmap(data, cmp, xlabel, ylabel):\n",
    "    x = range(data.shape[1]+1)\n",
    "    y = list(range(data.shape[0]+1))\n",
    "    y.sort(reverse=True)\n",
    "    plt.pcolormesh(x, y, data, cmap = cmp ) #Paired 'GnBu'\n",
    "    zbar = plt.colorbar(orientation=\"horizontal\", pad=0.02)\n",
    "    zbar.set_label('Squared Pearson Coefficient')\n",
    "    #zbar.set_ticks([np.min(data),np.max(data)])\n",
    "\n",
    "    plt.xlabel(xlabel)\n",
    "    plt.ylabel(ylabel)\n",
    "    plt.xticks([])\n",
    "    plt.yticks([])\n",
    "    #zbar.set_ticks([])"
   ]
  },
  {
   "cell_type": "code",
   "execution_count": 10,
   "metadata": {},
   "outputs": [
    {
     "data": {
      "image/png": "[encoded data removed]",
      "text/plain": [
       "<Figure size 340.128x360 with 2 Axes>"
      ]
     },
     "metadata": {
      "needs_background": "light"
     },
     "output_type": "display_data"
    }
   ],
   "source": [
    "fig, ax = plt.subplots(figsize=(4.724,5))\n",
    "plot_heatmap(pr_matrix, 'Greys', '', '')\n",
    "fig.savefig(outname)\n",
    "plt.show()"
   ]
  },
  {
   "cell_type": "markdown",
   "metadata": {},
   "source": [
    "#### 2. feature bar"
   ]
  },
  {
   "cell_type": "code",
   "execution_count": 19,
   "metadata": {},
   "outputs": [],
   "source": [
    "plt.close()\n",
    "mpl.rcParams['font.size'] = 9\n",
    "\n",
    "infile = '../Results/TS_Data_top10_three_labels.csv'\n",
    "df = pd.read_csv(infile,index_col=0)"
   ]
  },
  {
   "cell_type": "code",
   "execution_count": 22,
   "metadata": {},
   "outputs": [
    {
     "data": {
      "text/plain": [
       "<Figure size 340.158x1080 with 0 Axes>"
      ]
     },
     "metadata": {},
     "output_type": "display_data"
    }
   ],
   "source": [
    "plt.figure(figsize=(4.72441,15))\n",
    "colors = ['#1b9e77','#d95f02','#7570b3','#e7298a','#66a61e','#e6ab02']"
   ]
  },
  {
   "cell_type": "code",
   "execution_count": 23,
   "metadata": {},
   "outputs": [
    {
     "name": "stdout",
     "output_type": "stream",
     "text": [
      "A MF_armax_3_1_05_1_minfpe\n",
      "B MF_armax_2_2_05_1_p4_5\n",
      "C MF_AR_arcov_5_a5\n",
      "D MF_StateSpace_n4sid_3_05_1_p3_5\n",
      "E MF_GARCHfit_ar_P1_Q2_stde_acmnd0\n",
      "F MF_armax_3_1_05_1_p3_5\n",
      "G MF_armax_3_1_05_1_p5_5\n",
      "H MF_armax_2_2_05_1_p1_5\n",
      "I MF_GARCHfit_ar_P1_Q2_stde_p4_5\n",
      "J MF_FitSubsegments_arma_2_2_uniform_25_01_q_2_max\n"
     ]
    },
    {
     "data": {
      "image/png": "[encoded data removed]",
      "text/plain": [
       "<Figure size 432x288 with 10 Axes>"
      ]
     },
     "metadata": {
      "needs_background": "light"
     },
     "output_type": "display_data"
    }
   ],
   "source": [
    "for i in range(len(df.columns)):\n",
    "    plt.subplot(5,2,i+1)\n",
    "    data = dict()\n",
    "    for j in range(len(df.index)):\n",
    "        cont =  df.index[j].split('_')\n",
    "        if cont[-2] == '4m': key = '0-4m '+cont[0]\n",
    "        if cont[-2] == '12m': key = '4-12m '+cont[0]\n",
    "        data[key] = data.get(key,[]) + [df.values[j,i]]\n",
    "    keys = list(data.keys())\n",
    "    keys.sort()\n",
    "\n",
    "    means, stds = list(),list()\n",
    "    for key in keys:\n",
    "        means.append(np.mean(data[key]))\n",
    "        stds.append(np.std(data[key]))\n",
    "\n",
    "    ind = np.arange(len(means))\n",
    "    plt.bar(ind,means,yerr=stds,align='center',color=colors,\n",
    "                                ecolor='#696969',edgecolor=colors,\n",
    "                                width=0.7, capsize=3)\n",
    "    ticks = list()\n",
    "    for item in keys: ticks.append(item.replace('_','m '))\n",
    "    if i+1>8:\n",
    "        plt.xticks(ind,ticks,rotation='vertical')\n",
    "    else:plt.xticks([])\n",
    "    #plt.title(df.columns[i])\n",
    "    plt.ylim([0,1.5])\n",
    "    plt.yticks([0,0.5,1.0,1.5])\n",
    "    plt.text(-1.25, 1.53, string.ascii_uppercase[i],\n",
    "            size=10, weight='bold')\n",
    "    print(string.ascii_uppercase[i],df.columns[i])\n",
    "\n",
    "# legend\n",
    "#plt.subplot(5,2,11)\n",
    "#plt.text(1,1,keys[0].replace('_',' '),bbox={'facecolor':colors[0], 'alpha':0.5, 'pad':2, 'edgecolor':'k'},fontsize=12)\n",
    "plt.tight_layout()\n",
    "plt.savefig('../Results/bar_chart_top10.pdf')\n",
    "plt.show()"
   ]
  }
 ],
 "metadata": {
  "kernelspec": {
   "display_name": "Python 3",
   "language": "python",
   "name": "python3"
  },
  "language_info": {
   "codemirror_mode": {
    "name": "ipython",
    "version": 3
   },
   "file_extension": ".py",
   "mimetype": "text/x-python",
   "name": "python",
   "nbconvert_exporter": "python",
   "pygments_lexer": "ipython3",
   "version": "3.7.0"
  }
 },
 "nbformat": 4,
 "nbformat_minor": 2
}
